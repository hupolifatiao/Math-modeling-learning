{
 "cells": [
  {
   "cell_type": "markdown",
   "id": "5211dd29-29e3-47f1-9c25-0aba534d28ef",
   "metadata": {},
   "source": [
    "# 数学建模学习 :数据清洗"
   ]
  },
  {
   "cell_type": "markdown",
   "id": "aa94beca-4761-4ea4-b7c0-43047c06d6ce",
   "metadata": {},
   "source": [
    "## 数据清洗：识别修正数据的错误和不一致性\n",
    "\n",
    "1. 处理缺失值：删除、填充（平均值、中位数等）；\n",
    "2. 处理异常值：识别（可视化发现）、删除、替换；\n",
    "3. 处理重复值：识别df.duolicated()、删除df.drop_duplicates()，判断重复是无效的；\n",
    "4. 处理数据类型：识别df.info()/df.dtypes()、转换类型.astype()"
   ]
  },
  {
   "cell_type": "markdown",
   "id": "1470c84d-98db-4244-83bf-2aa5fb4f30fa",
   "metadata": {},
   "source": [
    "## 导入表格csv"
   ]
  },
  {
   "cell_type": "code",
   "execution_count": 35,
   "id": "f5d65fef-e24c-4b7f-a04b-c9e589592ef6",
   "metadata": {},
   "outputs": [
    {
     "name": "stdout",
     "output_type": "stream",
     "text": [
      "   sepal_length  sepal_width  petal_length  petal_width species\n",
      "0           5.1          3.5           1.4          0.2  setosa\n",
      "1           4.9          3.0           1.4          0.2  setosa\n",
      "2           4.7          3.2           1.3          0.2  setosa\n",
      "3           4.6          3.1           1.5          0.2  setosa\n",
      "4           5.0          3.6           1.4          0.2  setosa\n",
      "\n",
      "    sepal_length  sepal_width  petal_length  petal_width     species\n",
      "0            5.1          3.5           1.4          0.2      setosa\n",
      "1            4.9          3.0           1.4          0.2      setosa\n",
      "2            4.7          3.2           1.3          0.2      setosa\n",
      "3            4.6          3.1           1.5          0.2      setosa\n",
      "4            5.0          3.6           1.4          0.2      setosa\n",
      "5            5.4          3.9           1.7          0.4      setosa\n",
      "6            4.6          3.4           1.4          0.3      setosa\n",
      "7            5.0          3.4           1.5          0.2      setosa\n",
      "8            4.4          2.9           1.4          0.2      setosa\n",
      "9            4.9          3.1           1.5          0.1      setosa\n",
      "10           7.0          3.2           4.7          1.4  versicolor\n",
      "11           6.4          3.2           4.5          1.5  versicolor\n",
      "12           6.9          3.1           4.9          1.5  versicolor\n",
      "13           5.5          2.3           4.0          1.3  versicolor\n",
      "14           6.5          2.8           4.6          1.5  versicolor\n",
      "15           5.7          2.8           4.5          1.3  versicolor\n",
      "16           6.3          3.3           4.7          1.6  versicolor\n",
      "17           4.9          2.4           3.3          1.0  versicolor\n",
      "18           6.6          2.9           4.6          1.3  versicolor\n",
      "19           5.2          2.7           3.9          1.4  versicolor\n",
      "20           6.3          3.3           6.0          2.5   virginica\n",
      "21           5.8          2.7           5.1          1.9   virginica\n",
      "22           7.1          3.0           5.9          2.1   virginica\n",
      "23           6.3          2.9           5.6          1.8   virginica\n",
      "24           6.5          3.0           5.8          2.2   virginica\n",
      "25           7.6          3.0           6.6          2.1   virginica\n",
      "26           4.9          2.5           4.5          1.7   virginica\n",
      "27           7.3          2.9           6.3          1.8   virginica\n",
      "28           6.7          2.5           5.8          1.8   virginica\n",
      "29           7.2          3.6           6.1          2.5   virginica\n"
     ]
    }
   ],
   "source": [
    "# 导入pandas库，读取和处理数据的关键\n",
    "import pandas as pd\n",
    "\n",
    "# 扩大打印范围，但没必要全部显示\n",
    "# 设置最大显示行数，None 表示不限制\n",
    "pd.set_option('display.max_rows', None)\n",
    "# 设置最大显示列数，None 表示不限制\n",
    "pd.set_option('display.max_columns', None)\n",
    "\n",
    "# df读取数据进入dateframe的表格之中\n",
    "df = pd.read_csv('iris.csv')\n",
    "\n",
    "# 不加载所有数据head，利用head快速查看数据结构\n",
    "print(df.head())\n",
    "print('')\n",
    "print(df)"
   ]
  },
  {
   "cell_type": "code",
   "execution_count": 30,
   "id": "ec9f6a2a-ee52-4263-8bf6-419409c3f053",
   "metadata": {},
   "outputs": [
    {
     "name": "stdout",
     "output_type": "stream",
     "text": [
      "    sepal_length  sepal_width  petal_length  petal_width     species\n",
      "0            5.1          3.5           1.4          0.2      setosa\n",
      "5            5.4          3.9           1.7          0.4      setosa\n",
      "10           7.0          3.2           4.7          1.4  versicolor\n",
      "11           6.4          3.2           4.5          1.5  versicolor\n",
      "12           6.9          3.1           4.9          1.5  versicolor\n",
      "13           5.5          2.3           4.0          1.3  versicolor\n",
      "14           6.5          2.8           4.6          1.5  versicolor\n",
      "15           5.7          2.8           4.5          1.3  versicolor\n",
      "16           6.3          3.3           4.7          1.6  versicolor\n",
      "18           6.6          2.9           4.6          1.3  versicolor\n",
      "19           5.2          2.7           3.9          1.4  versicolor\n",
      "20           6.3          3.3           6.0          2.5   virginica\n",
      "21           5.8          2.7           5.1          1.9   virginica\n",
      "22           7.1          3.0           5.9          2.1   virginica\n",
      "23           6.3          2.9           5.6          1.8   virginica\n",
      "24           6.5          3.0           5.8          2.2   virginica\n",
      "25           7.6          3.0           6.6          2.1   virginica\n",
      "27           7.3          2.9           6.3          1.8   virginica\n",
      "28           6.7          2.5           5.8          1.8   virginica\n",
      "29           7.2          3.6           6.1          2.5   virginica\n"
     ]
    }
   ],
   "source": [
    "filtered_df = df[df['sepal_length']>5]\n",
    "print(filtered_df)"
   ]
  },
  {
   "cell_type": "markdown",
   "id": "564294a1-7376-4693-8d04-a04c995d36e8",
   "metadata": {},
   "source": [
    "## 导出excel文件"
   ]
  },
  {
   "cell_type": "code",
   "execution_count": 47,
   "id": "ffb2fee8-a134-4254-a6a7-88a888f86713",
   "metadata": {},
   "outputs": [],
   "source": [
    "# 假设这是你处理后的 DataFrame\n",
    "# 比如你已经完成了数据清洗\n",
    "# filtered_df = ...\n",
    "\n",
    "# 将处理后的数据导出为 Excel 文件\n",
    "# index=False 表示不保存索引列\n",
    "filtered_df.to_excel('cleaned_data.xlsx', index=False)"
   ]
  },
  {
   "cell_type": "code",
   "execution_count": null,
   "id": "711025e5-c128-41f8-bebd-1c5866de8a7a",
   "metadata": {},
   "outputs": [],
   "source": []
  }
 ],
 "metadata": {
  "kernelspec": {
   "display_name": "Python 3 (ipykernel)",
   "language": "python",
   "name": "python3"
  },
  "language_info": {
   "codemirror_mode": {
    "name": "ipython",
    "version": 3
   },
   "file_extension": ".py",
   "mimetype": "text/x-python",
   "name": "python",
   "nbconvert_exporter": "python",
   "pygments_lexer": "ipython3",
   "version": "3.12.4"
  }
 },
 "nbformat": 4,
 "nbformat_minor": 5
}
